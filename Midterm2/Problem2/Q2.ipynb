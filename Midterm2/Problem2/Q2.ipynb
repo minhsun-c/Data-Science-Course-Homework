{
 "cells": [
  {
   "cell_type": "code",
   "execution_count": 1,
   "id": "c84179e6",
   "metadata": {},
   "outputs": [],
   "source": [
    "import pandas as pd\n",
    "data = pd.read_csv('data.csv')\n",
    "db = data[7:len(data)-5]"
   ]
  },
  {
   "cell_type": "code",
   "execution_count": 2,
   "id": "68a44d5e",
   "metadata": {},
   "outputs": [],
   "source": [
    "title = db['Title：Population by single age ']\n",
    "gender = db['Unnamed: 1']\n",
    "age = [int(i.replace(\"'\", \"\").replace(\"+\", \"\")) for i in db['Unnamed: 2']]\n",
    "data2023 = [int(i) for i in db['Unnamed: 13']]"
   ]
  },
  {
   "cell_type": "code",
   "execution_count": 3,
   "id": "4190d900",
   "metadata": {},
   "outputs": [],
   "source": [
    "youth = 0\n",
    "young = 0\n",
    "adult = 0\n",
    "elder = 0\n",
    "total = sum(data2023)\n",
    "for i in range(len(age)):\n",
    "    if age[i] < 15:\n",
    "        youth += data2023[i]\n",
    "    elif age[i] < 25:\n",
    "        young += data2023[i]\n",
    "    elif age[i] < 65:\n",
    "        adult += data2023[i]\n",
    "    else:\n",
    "        elder += data2023[i]"
   ]
  },
  {
   "cell_type": "code",
   "execution_count": 4,
   "id": "7f65cfa4",
   "metadata": {},
   "outputs": [
    {
     "name": "stdout",
     "output_type": "stream",
     "text": [
      "Youth: Total = 2795396, Proportion = 12.01%\n",
      "Young adults: Total = 2335055, Proportion = 10.03%\n",
      "Adults: Total = 13872415, Proportion = 59.59%\n",
      "Elderly: Total = 4275776, Proportion = 18.37%\n",
      "Total Population: 23278642\n"
     ]
    }
   ],
   "source": [
    "print(\"Youth: Total = {}, Proportion = {}%\".format(youth, round(youth/total*100,2)))\n",
    "print(\"Young adults: Total = {}, Proportion = {}%\".format(young, round(young/total*100,2)))\n",
    "print(\"Adults: Total = {}, Proportion = {}%\".format(adult, round(adult/total*100,2)))\n",
    "print(\"Elderly: Total = {}, Proportion = {}%\".format(elder, round(elder/total*100,2)))\n",
    "print(\"Total Population: {}\".format(total))"
   ]
  }
 ],
 "metadata": {
  "kernelspec": {
   "display_name": "Python 3",
   "language": "python",
   "name": "python3"
  },
  "language_info": {
   "codemirror_mode": {
    "name": "ipython",
    "version": 3
   },
   "file_extension": ".py",
   "mimetype": "text/x-python",
   "name": "python",
   "nbconvert_exporter": "python",
   "pygments_lexer": "ipython3",
   "version": "3.8.8"
  }
 },
 "nbformat": 4,
 "nbformat_minor": 5
}
